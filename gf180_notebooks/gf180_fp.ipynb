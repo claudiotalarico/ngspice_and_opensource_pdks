{
 "cells": [
  {
   "cell_type": "markdown",
   "id": "f137f28a",
   "metadata": {},
   "source": [
    "## GF180MCU - first pass"
   ]
  },
  {
   "cell_type": "markdown",
   "id": "4ddc31b3",
   "metadata": {},
   "source": [
    "### Disable autoscrolling"
   ]
  },
  {
   "cell_type": "code",
   "execution_count": 1,
   "id": "a493666a",
   "metadata": {},
   "outputs": [
    {
     "data": {
      "application/javascript": [
       "IPython.OutputArea.prototype._should_scroll = function(lines) {\n",
       "    return false;\n",
       "}\n"
      ],
      "text/plain": [
       "<IPython.core.display.Javascript object>"
      ]
     },
     "metadata": {},
     "output_type": "display_data"
    }
   ],
   "source": [
    "%%javascript\n",
    "IPython.OutputArea.prototype._should_scroll = function(lines) {\n",
    "    return false;\n",
    "}"
   ]
  },
  {
   "cell_type": "markdown",
   "id": "40014345",
   "metadata": {},
   "source": [
    "### Simulation"
   ]
  },
  {
   "cell_type": "code",
   "execution_count": 2,
   "id": "691a5af9",
   "metadata": {},
   "outputs": [
    {
     "name": "stdout",
     "output_type": "stream",
     "text": [
      "Overwriting .spiceinit\n"
     ]
    }
   ],
   "source": [
    "%%writefile .spiceinit\n",
    "set ngbehavior=hs\n",
    "set ng_nomodcheck\n",
    "set color0=white\n",
    "set color1=black\n",
    "set xbrushwidth=2\n",
    "set altshow"
   ]
  },
  {
   "cell_type": "code",
   "execution_count": 5,
   "id": "a19187d8",
   "metadata": {},
   "outputs": [
    {
     "name": "stdout",
     "output_type": "stream",
     "text": [
      "Overwriting netlist.spice\n"
     ]
    }
   ],
   "source": [
    "%%writefile netlist.spice\n",
    "* gf180_fp\n",
    "* gf130 first pass simulation\n",
    "* goal: figure out device names and accessible device parameters\n",
    "*       \n",
    "\n",
    "** spice model \n",
    ".include \"/Users/claudio/share/pdks/gf180mcuC/libs.tech/ngspice/design.ngspice\"\n",
    ".lib \"/Users/claudio/share/pdks/gf180mcuC/libs.tech/ngspice/sm141064.ngspice\" typical\n",
    "\n",
    ".option nomod post ; comment to see all parameters of the mos model\n",
    "\n",
    "** parameters\n",
    ".global gnd\n",
    ".param gs=1 ds=1\n",
    "\n",
    "** temperature\n",
    ".TEMP 27\n",
    "** hspice  default TNOM=25\n",
    "** ngspice default TNOM=27\n",
    "** eldo    default TNOM=27\n",
    "** spectre default TNOM=27\n",
    "\n",
    "** transistor geometrical dimensions\n",
    ".param L1 = 0.28u\n",
    ".param width = 10u\n",
    "\n",
    "** netlist\n",
    "Vdsn dn gnd 'ds'\n",
    "Vgsn gn gnd 'gs'\n",
    "\n",
    "Vsdp gnd dp 'ds'\n",
    "Vsgp gnd gp 'gs'\n",
    "\n",
    "xmn dn gn gnd gnd nfet_03v3 L='L1' W='width' \n",
    "+ AD={width*0.24u} AS={width*0.24u} \n",
    "+ PD={2*(width + 0.24u)} PS={2*(width + 0.24u)}\n",
    "\n",
    "xmp dp gp gnd gnd pfet_03v3 L='L1' W='width' \n",
    "+ AD={width*0.24u} AS={width*0.24u}\n",
    "+ PD={2*(width + 0.24u)} PS={2*(width + 0.24u)}\n",
    "\n",
    ".control\n",
    "op\n",
    "* show ; uncomment to see the list of all devices \n",
    "show m.xmn.m0 : all\n",
    "show m.xmp.m0 : all\n",
    ".endc\n",
    "\n",
    ".end"
   ]
  },
  {
   "cell_type": "code",
   "execution_count": null,
   "id": "3630035c",
   "metadata": {},
   "outputs": [
    {
     "name": "stdout",
     "output_type": "stream",
     "text": [
      "******\n",
      "** ngspice-40 : Circuit level simulation program\n",
      "** The U. C. Berkeley CAD Group\n",
      "** Copyright 1985-1994, Regents of the University of California.\n",
      "** Copyright 2001-2023, The ngspice team.\n",
      "** Please get your ngspice manual from https://ngspice.sourceforge.io/docs.html\n",
      "** Please file your bug-reports at http://ngspice.sourceforge.net/bugrep.html\n",
      "******\n",
      "\n",
      "Note: Compatibility modes selected: hs\n",
      "\n",
      "Warning: m=xx on .subckt line will override multiplier m hierarchy!\n",
      "\n",
      "\n",
      "Circuit: * gf180_fp\n",
      "\n",
      "Doing analysis at TEMP = 27.000000 and TNOM = 27.000000\n",
      "\n",
      "\n",
      "No. of Data Rows : 1\n",
      "m.xmn.m0:\n",
      "    model              = nfet_03v3.8\n",
      "    l                  = 2.8e-07\n",
      "    w                  = 1e-05\n",
      "    m                  = 1\n",
      "    nf                 = 1\n",
      "    sa                 = 0\n",
      "    sb                 = 0\n",
      "    sd                 = 0\n",
      "    sca                = 0\n",
      "    scb                = 0\n",
      "    scc                = 0\n",
      "    sc                 = 0\n",
      "    min                = 0\n",
      "    ad                 = 2.4e-12\n",
      "    as                 = 2.4e-12\n",
      "    pd                 = 2.048e-05\n",
      "    ps                 = 2.048e-05\n",
      "    nrd                = 0\n",
      "    nrs                = 0\n",
      "    off                = 0\n",
      "    rbdb               = 50\n",
      "    rbsb               = 50\n",
      "    rbpb               = 50\n",
      "    rbps               = 50\n",
      "    rbpd               = 50\n",
      "    delvto             = -0\n",
      "    mulu0              = 1\n",
      "    xgw                = 0\n",
      "    ngcon              = 1\n",
      "    trnqsmod           = 0\n",
      "    acnqsmod           = 0\n",
      "    rbodymod           = 0\n",
      "    rgatemod           = 0\n",
      "    geomod             = 0\n",
      "    rgeomod            = 0\n",
      "    gmbs               = 0.000310052\n",
      "    gm                 = 0.00137201\n",
      "    gds                = 5.75498e-05\n",
      "    vdsat              = 0.306063\n",
      "    vth                = 0.636776\n",
      "    id                 = 0.000331728\n",
      "    ibd                = -1e-12\n",
      "    ibs                = 0\n",
      "    gbd                = 1e-12\n",
      "    gbs                = 1.00015e-12\n",
      "    isub               = 1.17321e-16\n",
      "    igidl              = 0\n",
      "    igisl              = 0\n",
      "    igs                = 0\n",
      "    igd                = 0\n",
      "    igb                = 0\n",
      "    igcs               = 0\n",
      "    igcd               = 0\n",
      "    vbs                = 0\n",
      "    vgs                = 1\n",
      "    vds                = 1\n",
      "    cgg                = 8.4564e-15\n",
      "    cgs                = -7.03151e-15\n",
      "    cgd                = 1.18726e-16\n",
      "    cbg                = -1.37226e-15\n",
      "    cbd                = 2.8371e-17\n",
      "    cbs                = -1.77608e-15\n",
      "    cdg                = -2.83718e-15\n",
      "    cdd                = -5.62327e-17\n",
      "    cds                = 3.52478e-15\n",
      "    csg                = -4.24696e-15\n",
      "    csd                = -9.08639e-17\n",
      "    css                = 5.28282e-15\n",
      "    cgb                = -1.54361e-15\n",
      "    cdb                = -6.31364e-16\n",
      "    csb                = -9.44995e-16\n",
      "    cbb                = 3.11997e-15\n",
      "    capbd              = 7.83413e-15\n",
      "    capbs              = 9.97326e-15\n",
      "    qg                 = 1.00155e-14\n",
      "    qb                 = -6.44011e-15\n",
      "    qd                 = -1.43116e-15\n",
      "    qs                 = -2.14419e-15\n",
      "    qinv               = 2.77168e-15\n",
      "    qdef               = 0\n",
      "    gcrg               = 0\n",
      "    gtau               = 0\n",
      "m.xmp.m0:\n",
      "    model              = pfet_03v3.8\n",
      "    l                  = 2.8e-07\n",
      "    w                  = 1e-05\n",
      "    m                  = 1\n",
      "    nf                 = 1\n",
      "    sa                 = 0\n",
      "    sb                 = 0\n",
      "    sd                 = 0\n",
      "    sca                = 0\n",
      "    scb                = 0\n",
      "    scc                = 0\n",
      "    sc                 = 0\n",
      "    min                = 0\n",
      "    ad                 = 2.4e-12\n",
      "    as                 = 2.4e-12\n",
      "    pd                 = 2.048e-05\n",
      "    ps                 = 2.048e-05\n",
      "    nrd                = 0\n",
      "    nrs                = 0\n",
      "    off                = 0\n",
      "    rbdb               = 50\n",
      "    rbsb               = 50\n",
      "    rbpb               = 50\n",
      "    rbps               = 50\n",
      "    rbpd               = 50\n",
      "    delvto             = 0\n",
      "    mulu0              = 1\n",
      "    xgw                = 0\n",
      "    ngcon              = 1\n",
      "    trnqsmod           = 0\n",
      "    acnqsmod           = 0\n",
      "    rbodymod           = 0\n",
      "    rgatemod           = 0\n",
      "    geomod             = 0\n",
      "    rgeomod            = 0\n",
      "    gmbs               = 0.000133452\n",
      "    gm                 = 0.000397762\n",
      "    gds                = 1.03167e-05\n",
      "    vdsat              = 0.275248\n",
      "    vth                = 0.732962\n",
      "    id                 = 6.3155e-05\n",
      "    ibd                = -1.00101e-12\n",
      "    ibs                = 0\n",
      "    gbd                = 1.00194e-12\n",
      "    gbs                = 1.00054e-12\n",
      "    isub               = 4.27687e-19\n",
      "    igidl              = 0\n",
      "    igisl              = 0\n",
      "    igs                = 0\n",
      "    igd                = 0\n",
      "    igb                = 0\n",
      "    igcs               = 0\n",
      "    igcd               = 0\n",
      "    vbs                = -0\n",
      "    vgs                = 1\n",
      "    vds                = 1\n",
      "    cgg                = 9.32964e-15\n",
      "    cgs                = -7.14135e-15\n",
      "    cgd                = 5.9197e-17\n",
      "    cbg                = -1.61432e-15\n",
      "    cbd                = 2.69235e-17\n",
      "    cbs                = -3.19654e-15\n",
      "    cdg                = -3.08908e-15\n",
      "    cdd                = -3.25433e-17\n",
      "    cds                = 4.13728e-15\n",
      "    csg                = -4.62624e-15\n",
      "    csd                = -5.35772e-17\n",
      "    css                = 6.20061e-15\n",
      "    cgb                = -2.24748e-15\n",
      "    cdb                = -1.01566e-15\n",
      "    csb                = -1.52079e-15\n",
      "    cbb                = 4.78394e-15\n",
      "    capbd              = 7.13675e-15\n",
      "    capbs              = 8.65386e-15\n",
      "    qg                 = 1.27685e-14\n",
      "    qb                 = -9.56744e-15\n",
      "    qd                 = -1.28122e-15\n",
      "    qs                 = -1.91986e-15\n",
      "    qinv               = 2.17055e-15\n",
      "    qdef               = -0\n",
      "    gcrg               = 0\n",
      "    gtau               = 0\n",
      "\u001b[?2004hngspice 957 -> "
     ]
    }
   ],
   "source": [
    "!ngspice netlist.spice"
   ]
  },
  {
   "cell_type": "code",
   "execution_count": 1,
   "id": "82332591",
   "metadata": {},
   "outputs": [
    {
     "name": "stdout",
     "output_type": "stream",
     "text": [
      "Ciao"
     ]
    }
   ],
   "source": [
    "% matlab kernel\n",
    "fprintf('Ciao')"
   ]
  },
  {
   "cell_type": "code",
   "execution_count": null,
   "id": "897aa608",
   "metadata": {},
   "outputs": [],
   "source": []
  }
 ],
 "metadata": {
  "kernelspec": {
   "display_name": "MATLAB Kernel",
   "language": "matlab",
   "name": "jupyter_matlab_kernel"
  },
  "language_info": {
   "file_extension": ".m",
   "mimetype": "text/x-matlab",
   "name": "matlab"
  }
 },
 "nbformat": 4,
 "nbformat_minor": 5
}
